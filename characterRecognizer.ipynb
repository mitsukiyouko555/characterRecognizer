{
 "cells": [
  {
   "cell_type": "markdown",
   "id": "91dbca7d",
   "metadata": {},
   "source": [
    "### Importing Stuff"
   ]
  },
  {
   "cell_type": "code",
   "execution_count": null,
   "id": "cc99ea5b",
   "metadata": {},
   "outputs": [],
   "source": [
    "import tensorflow as tf\n",
    "from keras import layers, models, optimizers, losses, metrics\n",
    "from keras import utils  # when using image_dataset_from_directory, try utils.image_dataset_from_directory\n",
    "import numpy as np\n",
    "import os"
   ]
  },
  {
   "cell_type": "markdown",
   "id": "f5d7cc66",
   "metadata": {},
   "source": [
    "---"
   ]
  },
  {
   "cell_type": "markdown",
   "id": "4f212f40",
   "metadata": {},
   "source": [
    "### Phase 1 - Eyes Only Images"
   ]
  },
  {
   "cell_type": "markdown",
   "id": "ada37622",
   "metadata": {},
   "source": [
    "Train Model on Eyes Only Images\n",
    "\n",
    "Remember to increase your dataset by using something like ImageDataGenerator in Keras to flip and rotate your images."
   ]
  },
  {
   "cell_type": "code",
   "execution_count": 6,
   "id": "755bbab3",
   "metadata": {},
   "outputs": [],
   "source": [
    "# Eyes Only Python Code goes here (Training AND Validation)"
   ]
  },
  {
   "cell_type": "markdown",
   "id": "6374c47c",
   "metadata": {},
   "source": [
    "Have Model Predict based on Eyes Only Images"
   ]
  },
  {
   "cell_type": "code",
   "execution_count": 7,
   "id": "a13dcc41",
   "metadata": {},
   "outputs": [],
   "source": [
    "# Eyes Only Python Code goes here (Prediction)"
   ]
  },
  {
   "cell_type": "markdown",
   "id": "23d2a54d",
   "metadata": {},
   "source": [
    "Save Eyes Only Model"
   ]
  },
  {
   "cell_type": "code",
   "execution_count": null,
   "id": "9ecbf620",
   "metadata": {},
   "outputs": [],
   "source": [
    "# SAVE the Eyes Only Model once the training results look good."
   ]
  },
  {
   "cell_type": "markdown",
   "id": "d49325d5",
   "metadata": {},
   "source": [
    "---"
   ]
  },
  {
   "cell_type": "markdown",
   "id": "6fec769b",
   "metadata": {},
   "source": [
    "### Phase 2 - Headshot Only Images"
   ]
  },
  {
   "cell_type": "markdown",
   "id": "3376d2ca",
   "metadata": {},
   "source": [
    "Train Model on Headshot Only Images\n",
    "\n",
    "Remember to increase your dataset by using something like ImageDataGenerator in Keras to flip and rotate your images."
   ]
  },
  {
   "cell_type": "code",
   "execution_count": null,
   "id": "72dc4ba9",
   "metadata": {},
   "outputs": [],
   "source": [
    "# Headshot Only Python Code goes here (Training AND Validation)"
   ]
  },
  {
   "cell_type": "markdown",
   "id": "409a12f5",
   "metadata": {},
   "source": [
    "Have Model Predict based on Headshot Only Images"
   ]
  },
  {
   "cell_type": "code",
   "execution_count": null,
   "id": "783a5afa",
   "metadata": {},
   "outputs": [],
   "source": [
    "# Headshot Only Python Code goes here (Prediction)"
   ]
  },
  {
   "cell_type": "markdown",
   "id": "3ab13044",
   "metadata": {},
   "source": [
    "Save Headshot Only Model"
   ]
  },
  {
   "cell_type": "code",
   "execution_count": null,
   "id": "6d51bed0",
   "metadata": {},
   "outputs": [],
   "source": [
    "# SAVE the Headshot Only Model once the training results look good."
   ]
  },
  {
   "cell_type": "markdown",
   "id": "0098750e",
   "metadata": {},
   "source": [
    "---"
   ]
  },
  {
   "cell_type": "markdown",
   "id": "12ed16b1",
   "metadata": {},
   "source": [
    "### Phase 3 - Full Body Images"
   ]
  },
  {
   "cell_type": "markdown",
   "id": "1c4664c8",
   "metadata": {},
   "source": [
    "Train Model on Full Body Images only\n",
    "\n",
    "Remember to increase your dataset by using something like ImageDataGenerator in Keras to flip and rotate your images."
   ]
  },
  {
   "cell_type": "code",
   "execution_count": null,
   "id": "1efd81c4",
   "metadata": {},
   "outputs": [],
   "source": [
    "# Headshot Only Python Code goes here (Training AND Validation)"
   ]
  },
  {
   "cell_type": "markdown",
   "id": "a75f6a1e",
   "metadata": {},
   "source": [
    "Have Model Predict based on Full Body Images Only"
   ]
  },
  {
   "cell_type": "code",
   "execution_count": null,
   "id": "4c00ae9f",
   "metadata": {},
   "outputs": [],
   "source": [
    "# Headshot Only Python Code goes here (Prediction)"
   ]
  },
  {
   "cell_type": "markdown",
   "id": "7ca29145",
   "metadata": {},
   "source": [
    "Save Full Body Only Model"
   ]
  },
  {
   "cell_type": "code",
   "execution_count": null,
   "id": "174ac783",
   "metadata": {},
   "outputs": [],
   "source": [
    "# SAVE the Headshot Only Model once the training results look good."
   ]
  },
  {
   "cell_type": "markdown",
   "id": "b679fb38",
   "metadata": {},
   "source": [
    "---"
   ]
  },
  {
   "cell_type": "markdown",
   "id": "874da10c",
   "metadata": {},
   "source": [
    "### Phase 4 - Multi-Label (Multiple Characters)"
   ]
  },
  {
   "cell_type": "markdown",
   "id": "0d72b7b7",
   "metadata": {},
   "source": [
    "Train Model on Multi-label Images\n",
    "\n",
    "- Include Background Only AKA No Character Images so it knows what No Characters mean\n",
    "\n",
    "Remember to increase your dataset by using something like ImageDataGenerator in Keras to flip and rotate your images.\n"
   ]
  },
  {
   "cell_type": "code",
   "execution_count": 8,
   "id": "4a093f96",
   "metadata": {},
   "outputs": [],
   "source": [
    "# Multi-Label Model Python Code goes here (Training AND Validation)"
   ]
  },
  {
   "cell_type": "markdown",
   "id": "22fe05b7",
   "metadata": {},
   "source": [
    "Have Model Predict based on Multi character Images (or Single Character Images that have been padded to fit the HD size)\n",
    "\n",
    "- Single Character Images (from previous data sets) - Padded\n",
    "- Multi Character Images HD Size\n",
    "- Simple BG ONLY - Flat or Gradient BG  - so that it can learn what \"No Characters\" means\n",
    "- Complex Bg Images (BG Only) - so that it can learn what \"No Characters\" means"
   ]
  },
  {
   "cell_type": "code",
   "execution_count": 9,
   "id": "745829a5",
   "metadata": {},
   "outputs": [],
   "source": [
    "# Multi-label Model Python Code goes here (Prediction)"
   ]
  },
  {
   "cell_type": "markdown",
   "id": "20b3f559",
   "metadata": {},
   "source": [
    "Save the Multi-Label Model"
   ]
  },
  {
   "cell_type": "code",
   "execution_count": 10,
   "id": "18869603",
   "metadata": {},
   "outputs": [],
   "source": [
    "# SAVE the Multi-Label Model once the training results look good."
   ]
  },
  {
   "cell_type": "markdown",
   "id": "982421e6",
   "metadata": {},
   "source": [
    "---"
   ]
  },
  {
   "cell_type": "markdown",
   "id": "2f120ddb",
   "metadata": {},
   "source": [
    "The project is complete at this point, but can be expanded upon if retrained with \"other characters\" so that it can tell the difference between what is a background and what is a NON-MC character"
   ]
  }
 ],
 "metadata": {
  "kernelspec": {
   "display_name": ".venv",
   "language": "python",
   "name": "python3"
  },
  "language_info": {
   "codemirror_mode": {
    "name": "ipython",
    "version": 3
   },
   "file_extension": ".py",
   "mimetype": "text/x-python",
   "name": "python",
   "nbconvert_exporter": "python",
   "pygments_lexer": "ipython3",
   "version": "3.11.0"
  }
 },
 "nbformat": 4,
 "nbformat_minor": 5
}
