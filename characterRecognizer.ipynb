{
 "cells": [
  {
   "cell_type": "markdown",
   "id": "91dbca7d",
   "metadata": {},
   "source": [
    "### Importing Stuff"
   ]
  },
  {
   "cell_type": "code",
   "execution_count": 2,
   "id": "cc99ea5b",
   "metadata": {},
   "outputs": [],
   "source": [
    "import tensorflow as tf\n",
    "import keras\n",
    "from keras import layers, models, optimizers\n",
    "from keras import callbacks \n",
    "from keras.src.callbacks import EarlyStopping, ModelCheckpoint\n",
    "import numpy as np\n",
    "import matplotlib.pyplot as plt\n",
    "import json\n",
    "import os\n",
    "import seaborn as sns\n",
    "from sklearn.metrics import classification_report, confusion_matrix"
   ]
  },
  {
   "cell_type": "markdown",
   "id": "f5d7cc66",
   "metadata": {},
   "source": [
    "---"
   ]
  },
  {
   "cell_type": "markdown",
   "id": "572002ac",
   "metadata": {},
   "source": [
    "### Model Classes"
   ]
  },
  {
   "cell_type": "code",
   "execution_count": 13,
   "id": "b8a3cae5",
   "metadata": {},
   "outputs": [],
   "source": [
    "# Create a bunch of different model classes here with different layers\n"
   ]
  },
  {
   "cell_type": "markdown",
   "id": "d1200743",
   "metadata": {},
   "source": [
    "### Compiling Classes"
   ]
  },
  {
   "cell_type": "code",
   "execution_count": null,
   "id": "b71f78a3",
   "metadata": {},
   "outputs": [],
   "source": [
    "# create a bunch of compiling classes"
   ]
  },
  {
   "cell_type": "markdown",
   "id": "6ba82e88",
   "metadata": {},
   "source": [
    "### Early Stopping Classes"
   ]
  },
  {
   "cell_type": "code",
   "execution_count": null,
   "id": "88132782",
   "metadata": {},
   "outputs": [],
   "source": [
    "#create a bunch of early stopping oslasses"
   ]
  },
  {
   "cell_type": "markdown",
   "id": "c43de14e",
   "metadata": {},
   "source": [
    "---"
   ]
  },
  {
   "cell_type": "markdown",
   "id": "4f212f40",
   "metadata": {},
   "source": [
    "### Phase 1 - Eyes Only Images"
   ]
  },
  {
   "cell_type": "markdown",
   "id": "ada37622",
   "metadata": {},
   "source": [
    "Train Model on Eyes Only Images\n",
    "\n",
    "Remember to increase your dataset by using something like ImageDataGenerator in Keras to flip and rotate your images.\n",
    "\n",
    "- Include a No Mcs Found Category with just the background\n",
    "\n",
    "- remember to set the Early Stopping Call Back and use restore_best_weights ALWAYS!!"
   ]
  },
  {
   "cell_type": "markdown",
   "id": "6374c47c",
   "metadata": {},
   "source": [
    "Have Model Predict based on Eyes Only Images"
   ]
  },
  {
   "cell_type": "code",
   "execution_count": null,
   "id": "11d63077",
   "metadata": {},
   "outputs": [],
   "source": [
    "# Eyes Only Python Code goes here (Training AND Validation)\n"
   ]
  },
  {
   "cell_type": "code",
   "execution_count": 7,
   "id": "a13dcc41",
   "metadata": {},
   "outputs": [],
   "source": [
    "# Eyes Only Python Code goes here (Prediction)"
   ]
  },
  {
   "cell_type": "markdown",
   "id": "23d2a54d",
   "metadata": {},
   "source": [
    "Save Eyes Only Model"
   ]
  },
  {
   "cell_type": "code",
   "execution_count": null,
   "id": "9ecbf620",
   "metadata": {},
   "outputs": [],
   "source": [
    "# SAVE the Eyes Only Model once the training results look good."
   ]
  },
  {
   "cell_type": "markdown",
   "id": "d49325d5",
   "metadata": {},
   "source": [
    "---"
   ]
  },
  {
   "cell_type": "markdown",
   "id": "6fec769b",
   "metadata": {},
   "source": [
    "### Phase 2 - Headshot Only Images"
   ]
  },
  {
   "cell_type": "markdown",
   "id": "3376d2ca",
   "metadata": {},
   "source": [
    "Train Model on Headshot Only Images\n",
    "\n",
    "Remember to increase your dataset by using something like ImageDataGenerator in Keras to flip and rotate your images.\n",
    "- remember to set the Early Stopping Call Back and use restore_best_weights ALWAYS!!"
   ]
  },
  {
   "cell_type": "code",
   "execution_count": 10,
   "id": "72dc4ba9",
   "metadata": {},
   "outputs": [],
   "source": [
    "# Headshot Only Python Code goes here (Training AND Validation)"
   ]
  },
  {
   "cell_type": "markdown",
   "id": "409a12f5",
   "metadata": {},
   "source": [
    "Have Model Predict based on Headshot Only Images"
   ]
  },
  {
   "cell_type": "code",
   "execution_count": 11,
   "id": "783a5afa",
   "metadata": {},
   "outputs": [],
   "source": [
    "# Headshot Only Python Code goes here (Prediction)"
   ]
  },
  {
   "cell_type": "markdown",
   "id": "3ab13044",
   "metadata": {},
   "source": [
    "Save Headshot Only Model"
   ]
  },
  {
   "cell_type": "code",
   "execution_count": 12,
   "id": "6d51bed0",
   "metadata": {},
   "outputs": [],
   "source": [
    "# SAVE the Headshot Only Model once the training results look good."
   ]
  },
  {
   "cell_type": "markdown",
   "id": "0098750e",
   "metadata": {},
   "source": [
    "---"
   ]
  },
  {
   "cell_type": "markdown",
   "id": "12ed16b1",
   "metadata": {},
   "source": [
    "### Phase 3 - Full Body Images"
   ]
  },
  {
   "cell_type": "markdown",
   "id": "1c4664c8",
   "metadata": {},
   "source": [
    "Train Model on Full Body Images only\n",
    "\n",
    "Remember to increase your dataset by using something like ImageDataGenerator in Keras to flip and rotate your images.\n",
    "\n",
    "- remember to set the Early Stopping Call Back and use restore_best_weights ALWAYS!!"
   ]
  },
  {
   "cell_type": "code",
   "execution_count": null,
   "id": "1efd81c4",
   "metadata": {},
   "outputs": [],
   "source": [
    "# Headshot Only Python Code goes here (Training AND Validation)"
   ]
  },
  {
   "cell_type": "markdown",
   "id": "a75f6a1e",
   "metadata": {},
   "source": [
    "Have Model Predict based on Full Body Images Only"
   ]
  },
  {
   "cell_type": "code",
   "execution_count": null,
   "id": "4c00ae9f",
   "metadata": {},
   "outputs": [],
   "source": [
    "# Headshot Only Python Code goes here (Prediction)"
   ]
  },
  {
   "cell_type": "markdown",
   "id": "7ca29145",
   "metadata": {},
   "source": [
    "Save Full Body Only Model"
   ]
  },
  {
   "cell_type": "code",
   "execution_count": null,
   "id": "174ac783",
   "metadata": {},
   "outputs": [],
   "source": [
    "# SAVE the Headshot Only Model once the training results look good."
   ]
  },
  {
   "cell_type": "markdown",
   "id": "b679fb38",
   "metadata": {},
   "source": [
    "---"
   ]
  },
  {
   "cell_type": "markdown",
   "id": "874da10c",
   "metadata": {},
   "source": [
    "### Phase 4 - Multi-Label (Multiple Characters)"
   ]
  },
  {
   "cell_type": "markdown",
   "id": "0d72b7b7",
   "metadata": {},
   "source": [
    "Train Model on Multi-label Images\n",
    "\n",
    "- Include Background Only AKA No Character Images so it knows what No Characters mean\n",
    "\n",
    "- Remember to increase your dataset by using something like ImageDataGenerator in Keras to flip and rotate your images.\n",
    "\n",
    "- Use the labelmaker.sh script to get the .txt files\n",
    "\n",
    "- remember to set the Early Stopping Call Back and use restore_best_weights ALWAYS!!"
   ]
  },
  {
   "cell_type": "code",
   "execution_count": 8,
   "id": "4a093f96",
   "metadata": {},
   "outputs": [],
   "source": [
    "# Multi-Label Model Python Code goes here (Training AND Validation)"
   ]
  },
  {
   "cell_type": "markdown",
   "id": "22fe05b7",
   "metadata": {},
   "source": [
    "Have Model Predict based on Multi character Images (or Single Character Images that have been padded to fit the HD size)\n",
    "\n",
    "- Single Character Images (from previous data sets) - Padded\n",
    "- Multi Character Images HD Size\n",
    "- Simple BG ONLY - Flat or Gradient BG  - so that it can learn what \"No Characters\" means\n",
    "- Complex Bg Images (BG Only) - so that it can learn what \"No Characters\" means"
   ]
  },
  {
   "cell_type": "code",
   "execution_count": 9,
   "id": "745829a5",
   "metadata": {},
   "outputs": [],
   "source": [
    "# Multi-label Model Python Code goes here (Prediction)"
   ]
  },
  {
   "cell_type": "markdown",
   "id": "20b3f559",
   "metadata": {},
   "source": [
    "Save the Multi-Label Model"
   ]
  },
  {
   "cell_type": "code",
   "execution_count": 10,
   "id": "18869603",
   "metadata": {},
   "outputs": [],
   "source": [
    "# SAVE the Multi-Label Model once the training results look good."
   ]
  },
  {
   "cell_type": "markdown",
   "id": "57fe2e29",
   "metadata": {},
   "source": [
    "### Training Metrics\n",
    "\n",
    "- Generate Classification Reports and Confusion Matrix\n",
    "\n",
    "Example:\n",
    "\n",
    "```\n",
    "# Classification Report\n",
    "print(\"\\nClassification Report:\")\n",
    "print(classification_report(true_classes, predicted_classes, target_names=class_labels))\n",
    "\n",
    "# Confusion Matrix\n",
    "print(\"\\nConfusion Matrix:\")\n",
    "cm = confusion_matrix(true_classes, predicted_classes)\n",
    "sns.heatmap(cm, annot=True, fmt='d', cmap='Blues', xticklabels=class_labels, yticklabels=class_labels)\n",
    "plt.xlabel('Predicted Label')\n",
    "plt.ylabel('True Label')\n",
    "plt.title('Confusion Matrix')\n",
    "plt.show()\n",
    "\n",
    "```"
   ]
  },
  {
   "cell_type": "code",
   "execution_count": null,
   "id": "9587ee20",
   "metadata": {},
   "outputs": [],
   "source": [
    "# Training Metrics"
   ]
  },
  {
   "cell_type": "markdown",
   "id": "982421e6",
   "metadata": {},
   "source": [
    "---"
   ]
  },
  {
   "cell_type": "markdown",
   "id": "2f120ddb",
   "metadata": {},
   "source": [
    "The project is complete at this point, but can be expanded upon if retrained with \"other characters\" so that it can tell the difference between what is a background and what is a NON-MC character"
   ]
  }
 ],
 "metadata": {
  "kernelspec": {
   "display_name": ".venv",
   "language": "python",
   "name": "python3"
  },
  "language_info": {
   "codemirror_mode": {
    "name": "ipython",
    "version": 3
   },
   "file_extension": ".py",
   "mimetype": "text/x-python",
   "name": "python",
   "nbconvert_exporter": "python",
   "pygments_lexer": "ipython3",
   "version": "3.11.0"
  }
 },
 "nbformat": 4,
 "nbformat_minor": 5
}
